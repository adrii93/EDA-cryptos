{
 "cells": [
  {
   "cell_type": "markdown",
   "metadata": {},
   "source": [
    "# Análisis Exploratorio de Datos (EDA) sobre las criptomonedas"
   ]
  },
  {
   "cell_type": "markdown",
   "metadata": {},
   "source": [
    " "
   ]
  },
  {
   "cell_type": "markdown",
   "metadata": {},
   "source": [
    "#### En este proyecto me quiero centrar en la hipotesis de si es seguro y viable invertir en criptomonedas en base a su volatilidad en el mercado, evaluando ciertas graficas sobre los maximos y minimos historicos en varias de ellas, unido a mi conocimiento del tema y analizando ciertos patrones en algunas de ellas."
   ]
  },
  {
   "cell_type": "markdown",
   "metadata": {},
   "source": []
  },
  {
   "cell_type": "markdown",
   "metadata": {},
   "source": [
    "## Explicación sobre el proyecto\n",
    "\n",
    "Se nos ha lanzado un proyecto de Análisis de Datos a elección personal.\n",
    "Yo he decidido hacerla sobre criptomonedas, ya que es un tema que me apasiona, entiendo y sabía que no era dificil de encontrar información al respecto.\n",
    "En Notebooks puedes encontrar el archivo principal, en formato \"ipynb\", en el cual convierto a df todos los csv, y luego con los datos que me aportan y unos datos conseguidos gracias a la librería ccxt, obtengo algunos datos restantes pata posteriormente usarlos en otras graficas mas detalladas."
   ]
  },
  {
   "cell_type": "markdown",
   "metadata": {},
   "source": []
  }
 ],
 "metadata": {
  "language_info": {
   "name": "python"
  }
 },
 "nbformat": 4,
 "nbformat_minor": 2
}
